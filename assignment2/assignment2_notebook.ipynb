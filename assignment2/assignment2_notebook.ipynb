{
 "cells": [
  {
   "cell_type": "code",
   "execution_count": 1,
   "metadata": {},
   "outputs": [],
   "source": [
    "import numpy as np\n",
    "import math as m\n",
    "import pandas as pd\n",
    "import os\n",
    "import matplotlib.pyplot as plt\n",
    "import plotly\n",
    "os.chdir('C:\\\\Users\\\\nicol\\\\Desktop\\\\pythonfiles\\\\Wind Turbine\\\\assignment2')"
   ]
  },
  {
   "cell_type": "code",
   "execution_count": 3,
   "metadata": {},
   "outputs": [
    {
     "name": "stdout",
     "output_type": "stream",
     "text": [
      "Z (0.014821+0.3414078692398904j)\n",
      "Ea 969.5174840463853\n",
      "4000000\n",
      "Ia 1375.2545521598263\n",
      "Va 1058.9185653578559\n"
     ]
    }
   ],
   "source": [
    "# DATA\n",
    "N = 22.5\n",
    "Pnom = 4*10**6\n",
    "\n",
    "# GENERATOR\n",
    "p = 52/2\n",
    "Rg = 14.821*10**-3\n",
    "Lg = 5.573*10**-3\n",
    "psi = 15.826\n",
    "\n",
    "#def generator(N, p, Rg, Lg, psi, case):\n",
    "fs = N*p/60\n",
    "omega = 2*np.pi*fs\n",
    "Z = Rg + 1j*omega*Lg\n",
    "print('Z', Z)\n",
    "k = (Pnom*1/3)/N**3\n",
    "Ea = omega*psi + 0j\n",
    "print('Ea', abs(Ea))\n",
    "\n",
    "# case b\n",
    "print(Pnom)\n",
    "Ia = (1/3*Pnom)/Ea\n",
    "Vz = Ia*Z\n",
    "Va = Ea - Vz\n",
    "\n",
    "print('Ia', abs(Ia))\n",
    "print('Va', abs(Va))\n"
   ]
  },
  {
   "cell_type": "code",
   "execution_count": null,
   "metadata": {},
   "outputs": [],
   "source": []
  }
 ],
 "metadata": {
  "kernelspec": {
   "display_name": "myvenv",
   "language": "python",
   "name": "python3"
  },
  "language_info": {
   "codemirror_mode": {
    "name": "ipython",
    "version": 3
   },
   "file_extension": ".py",
   "mimetype": "text/x-python",
   "name": "python",
   "nbconvert_exporter": "python",
   "pygments_lexer": "ipython3",
   "version": "3.11.5"
  }
 },
 "nbformat": 4,
 "nbformat_minor": 2
}
